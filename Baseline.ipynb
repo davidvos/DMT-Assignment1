{
 "cells": [
  {
   "cell_type": "code",
   "execution_count": 11,
   "id": "ef5d85f0",
   "metadata": {},
   "outputs": [],
   "source": [
    "import pandas as pd\n",
    "import numpy as np\n",
    "from sklearn.model_selection import train_test_split\n",
    "from sklearn.neural_network import MLPClassifier\n",
    "from sklearn.metrics import classification_report\n",
    "from sklearn import preprocessing, tree\n",
    "from sklearn.linear_model import LinearRegression\n",
    "from sklearn import metrics\n",
    "from datetime import datetime, timedelta\n",
    "\n",
    "\n",
    "from format_data import read_dataset, aggregate_dataset, clean_dataset, sliding_window, sliding_window_baseline"
   ]
  },
  {
   "cell_type": "code",
   "execution_count": 12,
   "id": "d6629386",
   "metadata": {},
   "outputs": [
    {
     "name": "stderr",
     "output_type": "stream",
     "text": [
      "/var/folders/jr/91tgzxq96b30vd94j032zrwc0000gn/T/ipykernel_5146/2432745597.py:11: FutureWarning: Dropping of nuisance columns in DataFrame reductions (with 'numeric_only=None') is deprecated; in a future version this will raise TypeError.  Select only valid columns before calling the reduction.\n",
      "  dataset = dataset.fillna(dataset.mean())\n"
     ]
    }
   ],
   "source": [
    "dataset = pd.read_csv('data/dataset_mood_smartphone.csv')\n",
    "dataset = read_dataset(dataset)\n",
    "dataset = aggregate_dataset(dataset)\n",
    "\n",
    "# Remove rows without mood\n",
    "dataset = dataset[dataset['mood'].notnull()]\n",
    "\n",
    "all_labels = list(dataset['mood'])\n",
    "\n",
    "# Fill NaN cells with average column value \n",
    "dataset = dataset.fillna(dataset.mean())\n",
    "\n",
    "# drop_columns = ['mood']\n",
    "\n",
    "# dataset = dataset.drop(columns=drop_columns)\n",
    "\n",
    "stored_ids = dataset['id']\n",
    "stored_dates = dataset['date']\n",
    "\n",
    "dataset = dataset.drop(['id', 'date'], axis=1)\n",
    "stored_columns = dataset.columns\n",
    "\n",
    "# dataset = dataset.values #returns a numpy array\n",
    "ss = preprocessing.StandardScaler()\n",
    "dataset = ss.fit_transform(dataset)\n",
    "dataset = pd.DataFrame(dataset, columns=stored_columns)\n",
    "\n",
    "dataset.insert(0, 'id', list(stored_ids), allow_duplicates=True)\n",
    "dataset.insert(1, 'date', list(stored_dates), allow_duplicates=True)\n",
    "dataset.insert(2, 'label', all_labels, allow_duplicates=True)\n",
    "\n",
    "samples = sliding_window_baseline(dataset)"
   ]
  },
  {
   "cell_type": "code",
   "execution_count": 13,
   "id": "28dd6244",
   "metadata": {},
   "outputs": [
    {
     "name": "stdout",
     "output_type": "stream",
     "text": [
      "Mean Squared Error: 0.7031732229123534\n",
      "Accuracy of model is 0.4782608695652174\n"
     ]
    }
   ],
   "source": [
    "correct = 0\n",
    "predictions = []\n",
    "labels = []\n",
    "for index, (sample, label) in enumerate(samples):\n",
    "    predictions.append(sample[-1])\n",
    "    labels.append(label)\n",
    "    if round(sample[-1]) == round(label):\n",
    "        correct += 1\n",
    "\n",
    "print('Mean Squared Error:', metrics.mean_squared_error(labels, predictions))\n",
    "print(f'Accuracy of model is {correct/len(samples)}')"
   ]
  },
  {
   "cell_type": "code",
   "execution_count": null,
   "id": "d0845dba",
   "metadata": {},
   "outputs": [],
   "source": []
  }
 ],
 "metadata": {
  "kernelspec": {
   "display_name": "Python 3 (ipykernel)",
   "language": "python",
   "name": "python3"
  },
  "language_info": {
   "codemirror_mode": {
    "name": "ipython",
    "version": 3
   },
   "file_extension": ".py",
   "mimetype": "text/x-python",
   "name": "python",
   "nbconvert_exporter": "python",
   "pygments_lexer": "ipython3",
   "version": "3.9.12"
  }
 },
 "nbformat": 4,
 "nbformat_minor": 5
}
