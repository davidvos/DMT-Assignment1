{
 "cells": [
  {
   "cell_type": "code",
   "execution_count": 1,
   "id": "3db311fb",
   "metadata": {},
   "outputs": [],
   "source": [
    "import pandas as pd\n",
    "import numpy as np\n",
    "\n",
    "from format_data import read_dataset, aggregate_dataset, clean_dataset, sliding_window\n",
    "from dataset import MoodDataset"
   ]
  },
  {
   "cell_type": "code",
   "execution_count": 2,
   "id": "3fbc8204",
   "metadata": {},
   "outputs": [
    {
     "data": {
      "text/html": [
       "<div>\n",
       "<style scoped>\n",
       "    .dataframe tbody tr th:only-of-type {\n",
       "        vertical-align: middle;\n",
       "    }\n",
       "\n",
       "    .dataframe tbody tr th {\n",
       "        vertical-align: top;\n",
       "    }\n",
       "\n",
       "    .dataframe thead th {\n",
       "        text-align: right;\n",
       "    }\n",
       "</style>\n",
       "<table border=\"1\" class=\"dataframe\">\n",
       "  <thead>\n",
       "    <tr style=\"text-align: right;\">\n",
       "      <th></th>\n",
       "      <th>id</th>\n",
       "      <th>variable</th>\n",
       "      <th>value</th>\n",
       "      <th>date</th>\n",
       "    </tr>\n",
       "  </thead>\n",
       "  <tbody>\n",
       "    <tr>\n",
       "      <th>0</th>\n",
       "      <td>AS14.01</td>\n",
       "      <td>mood</td>\n",
       "      <td>6.000</td>\n",
       "      <td>2014-02-26</td>\n",
       "    </tr>\n",
       "    <tr>\n",
       "      <th>1</th>\n",
       "      <td>AS14.01</td>\n",
       "      <td>mood</td>\n",
       "      <td>6.000</td>\n",
       "      <td>2014-02-26</td>\n",
       "    </tr>\n",
       "    <tr>\n",
       "      <th>2</th>\n",
       "      <td>AS14.01</td>\n",
       "      <td>mood</td>\n",
       "      <td>6.000</td>\n",
       "      <td>2014-02-26</td>\n",
       "    </tr>\n",
       "    <tr>\n",
       "      <th>3</th>\n",
       "      <td>AS14.01</td>\n",
       "      <td>mood</td>\n",
       "      <td>7.000</td>\n",
       "      <td>2014-02-26</td>\n",
       "    </tr>\n",
       "    <tr>\n",
       "      <th>4</th>\n",
       "      <td>AS14.01</td>\n",
       "      <td>mood</td>\n",
       "      <td>6.000</td>\n",
       "      <td>2014-02-27</td>\n",
       "    </tr>\n",
       "    <tr>\n",
       "      <th>...</th>\n",
       "      <td>...</td>\n",
       "      <td>...</td>\n",
       "      <td>...</td>\n",
       "      <td>...</td>\n",
       "    </tr>\n",
       "    <tr>\n",
       "      <th>376907</th>\n",
       "      <td>AS14.30</td>\n",
       "      <td>appCat.weather</td>\n",
       "      <td>8.032</td>\n",
       "      <td>2014-04-11</td>\n",
       "    </tr>\n",
       "    <tr>\n",
       "      <th>376908</th>\n",
       "      <td>AS14.30</td>\n",
       "      <td>appCat.weather</td>\n",
       "      <td>3.008</td>\n",
       "      <td>2014-04-19</td>\n",
       "    </tr>\n",
       "    <tr>\n",
       "      <th>376909</th>\n",
       "      <td>AS14.30</td>\n",
       "      <td>appCat.weather</td>\n",
       "      <td>7.026</td>\n",
       "      <td>2014-04-26</td>\n",
       "    </tr>\n",
       "    <tr>\n",
       "      <th>376910</th>\n",
       "      <td>AS14.30</td>\n",
       "      <td>appCat.weather</td>\n",
       "      <td>23.033</td>\n",
       "      <td>2014-04-27</td>\n",
       "    </tr>\n",
       "    <tr>\n",
       "      <th>376911</th>\n",
       "      <td>AS14.32</td>\n",
       "      <td>appCat.weather</td>\n",
       "      <td>22.431</td>\n",
       "      <td>2014-04-07</td>\n",
       "    </tr>\n",
       "  </tbody>\n",
       "</table>\n",
       "<p>376912 rows × 4 columns</p>\n",
       "</div>"
      ],
      "text/plain": [
       "             id        variable   value        date\n",
       "0       AS14.01            mood   6.000  2014-02-26\n",
       "1       AS14.01            mood   6.000  2014-02-26\n",
       "2       AS14.01            mood   6.000  2014-02-26\n",
       "3       AS14.01            mood   7.000  2014-02-26\n",
       "4       AS14.01            mood   6.000  2014-02-27\n",
       "...         ...             ...     ...         ...\n",
       "376907  AS14.30  appCat.weather   8.032  2014-04-11\n",
       "376908  AS14.30  appCat.weather   3.008  2014-04-19\n",
       "376909  AS14.30  appCat.weather   7.026  2014-04-26\n",
       "376910  AS14.30  appCat.weather  23.033  2014-04-27\n",
       "376911  AS14.32  appCat.weather  22.431  2014-04-07\n",
       "\n",
       "[376912 rows x 4 columns]"
      ]
     },
     "metadata": {},
     "output_type": "display_data"
    }
   ],
   "source": [
    "dataset = pd.read_csv('data/dataset_mood_smartphone.csv')\n",
    "dataset = read_dataset(dataset)\n",
    "\n",
    "display(dataset)"
   ]
  },
  {
   "cell_type": "code",
   "execution_count": 25,
   "id": "9ae5f7d3",
   "metadata": {},
   "outputs": [
    {
     "name": "stdout",
     "output_type": "stream",
     "text": [
      "113 unique dates\n"
     ]
    }
   ],
   "source": [
    "# Unique dates\n",
    "print(f'{len(dataset[\"date\"].unique())} unique dates')"
   ]
  },
  {
   "cell_type": "code",
   "execution_count": 28,
   "id": "493f7572",
   "metadata": {},
   "outputs": [
    {
     "name": "stdout",
     "output_type": "stream",
     "text": [
      "2014-02-17 first date\n",
      "2014-06-09 first date\n"
     ]
    }
   ],
   "source": [
    "# Unique dates\n",
    "print(f'{min(dataset[\"date\"].unique())} first date')\n",
    "print(f'{max(dataset[\"date\"].unique())} first date')"
   ]
  },
  {
   "cell_type": "code",
   "execution_count": 18,
   "id": "d7c23c92",
   "metadata": {},
   "outputs": [
    {
     "name": "stdout",
     "output_type": "stream",
     "text": [
      "27 unique ids\n"
     ]
    }
   ],
   "source": [
    "# Unique IDs\n",
    "print(f'{len(dataset[\"id\"].unique())} unique ids')"
   ]
  },
  {
   "cell_type": "code",
   "execution_count": 23,
   "id": "2e259a7a",
   "metadata": {},
   "outputs": [
    {
     "name": "stdout",
     "output_type": "stream",
     "text": [
      "13959 datapoints per id on average\n"
     ]
    }
   ],
   "source": [
    "# Datapoints per ID\n",
    "print(f'{len(dataset)//len(dataset[\"id\"].unique())} datapoints per id on average')"
   ]
  },
  {
   "cell_type": "code",
   "execution_count": 24,
   "id": "1c3502b9",
   "metadata": {},
   "outputs": [
    {
     "name": "stdout",
     "output_type": "stream",
     "text": [
      "screen                  96578\n",
      "appCat.builtin          91288\n",
      "appCat.communication    74276\n",
      "appCat.entertainment    27125\n",
      "activity                22965\n",
      "appCat.social           19145\n",
      "appCat.other             7650\n",
      "circumplex.valence       5643\n",
      "circumplex.arousal       5643\n",
      "appCat.office            5642\n",
      "mood                     5641\n",
      "call                     5239\n",
      "appCat.travel            2846\n",
      "appCat.utilities         2487\n",
      "sms                      1798\n",
      "appCat.finance            939\n",
      "appCat.unknown            939\n",
      "appCat.game               813\n",
      "appCat.weather            255\n",
      "Name: variable, dtype: int64\n"
     ]
    }
   ],
   "source": [
    "# Value counts in variable column\n",
    "print(dataset['variable'].value_counts())"
   ]
  },
  {
   "cell_type": "code",
   "execution_count": 16,
   "id": "c6543409",
   "metadata": {},
   "outputs": [],
   "source": [
    "dates = list(dataset['date'].unique())"
   ]
  },
  {
   "cell_type": "code",
   "execution_count": 19,
   "id": "32f8e45a",
   "metadata": {},
   "outputs": [
    {
     "name": "stdout",
     "output_type": "stream",
     "text": [
      "None\n"
     ]
    }
   ],
   "source": []
  },
  {
   "cell_type": "code",
   "execution_count": null,
   "id": "dff8e014",
   "metadata": {},
   "outputs": [],
   "source": []
  }
 ],
 "metadata": {
  "kernelspec": {
   "display_name": "Python 3 (ipykernel)",
   "language": "python",
   "name": "python3"
  },
  "language_info": {
   "codemirror_mode": {
    "name": "ipython",
    "version": 3
   },
   "file_extension": ".py",
   "mimetype": "text/x-python",
   "name": "python",
   "nbconvert_exporter": "python",
   "pygments_lexer": "ipython3",
   "version": "3.9.12"
  }
 },
 "nbformat": 4,
 "nbformat_minor": 5
}
